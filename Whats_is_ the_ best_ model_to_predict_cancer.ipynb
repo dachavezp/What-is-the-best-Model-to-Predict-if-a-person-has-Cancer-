{
 "cells": [
  {
   "cell_type": "markdown",
   "id": "d1f41a97-a121-46de-8e08-c1c1c799b492",
   "metadata": {},
   "source": [
    "<div style=\"text-align: center;\">\n",
    "    <h2>What is the best Model to Predict if a person has Cancer?</h2>\n",
    "    <img src=\"download.jpeg\" alt=\"Image Description\">\n",
    "    <br><br>\n",
    "    <strong>Boston University</strong><br>\n",
    "    <strong>Summer 2024</strong><br>\n",
    "    <strong>David Chavez</strong><br>\n",
    "    <strong>Finn Graham</strong>\n",
    "</div>\n"
   ]
  },
  {
   "cell_type": "markdown",
   "id": "910ad3b4-0df0-417f-bfbf-c1d3f6c34700",
   "metadata": {
    "editable": true,
    "slideshow": {
     "slide_type": ""
    },
    "tags": []
   },
   "source": [
    "## Background 📚\n",
    "In the healthcare sector, particularly in oncology, there is significant concern over the effectiveness of cancer detection methods. [Cancer Research UK](https://www.cancerresearchuk.org/health-professional/cancer-statistics/statistics-by-cancer-type) highlights that early and accurate cancer detection significantly improves treatment outcomes, yet many current models fail to reliably predict the presence of cancer, leading to delayed or incorrect treatments.\n",
    "\n",
    "This gap underscores the **urgent need for improved predictive models** that can more accurately determine the likelihood of a person having cancer, thus enhancing early intervention strategies and potentially saving lives. The development of these models is crucial for aligning medical interventions with actual patient needs and minimizing the physical and financial burdens of unnecessary treatments.\n",
    "cation models.\n"
   ]
  },
  {
   "cell_type": "markdown",
   "id": "69890a66-77b2-4dd4-99f9-ab1acd85dd50",
   "metadata": {
    "editable": true,
    "slideshow": {
     "slide_type": ""
    },
    "tags": []
   },
   "source": [
    "## Objectives 🎯\n",
    "\n",
    "- **Predict** the likelihood of new patients **developing** a certain disease, based on their health features.\n",
    "- **Identify** the primary **risk determinants** that significantly elevate the probability of diseases.\n"
   ]
  },
  {
   "cell_type": "markdown",
   "id": "a9675d32-2cab-423e-9021-c28f4703f7b0",
   "metadata": {},
   "source": [
    "## Methodology 📊\n",
    "| Step | Process                 | Description |\n",
    "|------|-------------------------|-------------|\n",
    "| 1    | **Data Preparation**    | Clean the dataset and apply two balancing methods to ensure fairness. Data sourced from the [BRFSS 2019 survey](https://www.cdc.gov/brfss/annual_data/annual_2019.html). |\n",
    "| 2    | **Feature Engineering** | Utilize three attribute selection techniques to refine features. |\n",
    "| 3    | **Model Development**   | Construct six different classification algorithms. |\n",
    "| 4    | **Model Evaluation**    | Evaluate and compare the performance of 36 model variations to determine the most effective approach. |\n",
    "\n",
    "\n",
    "> ⚠️ **Important Note:** The data used in this project is the [BRFSS 2019 survey](https://www.cdc.gov/brfss/annual_data/annual_2019.html), which collects data on health-related risk behaviors among the US population."
   ]
  },
  {
   "cell_type": "markdown",
   "id": "b27d1f55-dcbc-4ab4-9eb9-b0bf8c7ae668",
   "metadata": {},
   "source": [
    "## Data Insights 🔍\n",
    "<div style=\"background-color: #f8f9fa; padding: 10px; border-left: 5px solid #007bff;\">\n",
    "<strong>Dataset dimensions:</strong> Rows: 4999 Columns: 66\n",
    "</div>"
   ]
  },
  {
   "cell_type": "markdown",
   "id": "05afe7a1-587f-4a6c-acd3-041130f7ed82",
   "metadata": {
    "editable": true,
    "slideshow": {
     "slide_type": ""
    },
    "tags": []
   },
   "source": [
    "<style>\n",
    "table {\n",
    "    width: 100%;\n",
    "    border-collapse: collapse;\n",
    "}\n",
    "th {\n",
    "    background-color: #4CAF50;\n",
    "    color: white;\n",
    "}\n",
    "th, td {\n",
    "    padding: 8px;\n",
    "    text-align: left;\n",
    "    border-bottom: 1px solid #ddd;\n",
    "}\n",
    "tr:hover {background-color: #f5f5f5;}\n",
    "</style>\n",
    "\n",
    "| Variable  | Description                                            | Variable  | Description                                           | Variable  | Description                                           |\r\n",
    "|-----------|--------------------------------------------------------|-----------|-------------------------------------------------------|-----------|-------------------------------------------------------|\r\n",
    "| **FMONTH**    | Month when the interview was completed               | **PERSDOC2**  | Primary doctor status                                | **DIABETE4**  | Diabetes status                                      |\r\n",
    "| **IDATE**     | Interview date                                        | **MEDCOST**   | Medical costs not seen due to expense                | **HAVARTH4**  | Arthritis status                                     |\r\n",
    "| **IMONTH**    | Interview month                                       | **CHECKUP1**  | Time since last routine checkup                      | **MARITAL**   | Marital status                                       |\r\n",
    "| **IDAY**      | Interview day                                         | **BPHIGH4**   | High blood pressure                                  | **EDUCA**     | Education level                                      |\r\n",
    "| **IYEAR**     | Interview year                                        | **CHOLCHK2**  | Cholesterol checked                                  | **RENTHOM1**  | Home ownership                                       |\r\n",
    "| **DISPCODE**  | Disposition code                                      | **TOLDHI2**   | Told have high cholesterol                           | **CPDEMO1B**  | Telephone usage                                      |\r\n",
    "| **SEQNO**     | Unique sequence number                                | **CVDINFR4**  | Ever told had heart attack                           | **VETERAN3**  | Veteran status                                       |\r\n",
    "| **SEXVAR**    | Respondent sex                                        | **CVDCRHD4**  | Ever told had angina or coronary heart disease       | **EMPLOY1**   | Employment status                                    |\r\n",
    "| **GENHLTH**   | General health status                                 | **CVDSTRK3**  | Ever told had stroke                                 | **CHILDREN**  | Number of children                                   |\r\n",
    "| **PHYSHLTH**  | Physical health status days                           | **ASTHMA3**   | Asthma status                                        | **INCOME2**   | Income levels                                        |\r\n",
    "| **MENTHLTH**  | Mental health status days                             | **CHCCOPD2**  | Chronic obstructive pulmonary disease status         | **WEIGHT2**   | Weight in pounds                                     |\r\n",
    "| **HLTHPLN1**  | Health care coverage                                  | **ADDEPEV3**  | Ever diagnosed with depression                       | **HEIGHT3**   | Height in inches                                     |\r\n",
    "| **DEAF**      | Hearing difficulty                                    | **DIFFDRES**  | Dressing difficulty                                  | **FRENCHF1**  | French fries or chips consumption                    |\r\n",
    "| **BLIND**     | Vision difficulty                                     | **DIFFALON**  | Living alone difficulty                              | **POTATOE1**  | Potatoes consumption                                 |\r\n",
    "| **DECIDE**    | Decision making difficulty                            | **SMOKE100**  | Smoking status                                       | **VEGETAB2**  | Vegetables consumption                               |\r\n",
    "| **DIFFWALK**  | Walking difficulty                                    | **USENOW3**   | Tobacco use                                          | **FLUSHOT7**  | Flu shot status                                      |\r\n",
    "| **CHCKDNY2**  | Chronic kidney disease                                | **ALCDAY5**   | Alcohol consumption days                             | **TETANUS1**  | Tetanus shot status                                  |\r\n",
    "| **EXERANY2**  | Exercise status                                       | **STRENGTH**  | Strength training frequency                          | **PNEUVAC4**  | Pneumonia vaccine status                             |\r\n",
    "| **FRUIT2**    | Fruit consumption frequency                           | **FRUITJU2**  | Fruit juice consumption                              | **HIVTST7**   | HIV test status                                      |\r\n",
    "| **FVGREEN1**  | Vegetable consumption frequency                       | **HIVRISK5**  | HIV risk assessment                                  | **QSTVER**    | Questionnaire version                                |\r\n",
    "| **HTIN4**     | Height in inches (rounded)                            | **HTM4**      | Height in meters                                     | **WTKG3**     | Weight in kilograms                                  |\r\n",
    "| **DRNKANY5**  | Any drinking status                                   | **Class**     | Patient Cancer Status                                |               |                                                       |\r\n"
   ]
  },
  {
   "cell_type": "markdown",
   "id": "5ba23d99-3198-4633-9c60-f31c40d6e6bd",
   "metadata": {},
   "source": [
    "Loading necessary libraries and reading file 📖"
   ]
  },
  {
   "cell_type": "code",
   "execution_count": 70,
   "id": "f2a2cb83-84a4-4194-ad2a-1b8c60728a79",
   "metadata": {},
   "outputs": [],
   "source": [
    "packages <- c(\"readr\", \"caret\", \"rsample\", \"RWeka\", \"rpart\", \"rpart.plot\", \"MASS\", \n",
    "              \"kernlab\", \"pROC\", \"dplyr\", \"C50\", \"e1071\", \"ROSE\", \"FSelector\", \n",
    "              \"Boruta\", \"magrittr\", \"openxlsx\", \"tidyverse\", \"data.table\",\"klaR\",\"naivebayes\")\n",
    "for (pkg in packages) {\n",
    "  library(pkg, character.only = TRUE)\n",
    "}"
   ]
  },
  {
   "cell_type": "code",
   "execution_count": 145,
   "id": "3e5d2a23-88ca-4828-be29-380be2afc8ca",
   "metadata": {},
   "outputs": [
    {
     "name": "stderr",
     "output_type": "stream",
     "text": [
      "\u001b[1mRows: \u001b[22m\u001b[34m4999\u001b[39m \u001b[1mColumns: \u001b[22m\u001b[34m66\u001b[39m\n",
      "\u001b[36m──\u001b[39m \u001b[1mColumn specification\u001b[22m \u001b[36m────────────────────────────────────────────────────────\u001b[39m\n",
      "\u001b[1mDelimiter:\u001b[22m \",\"\n",
      "\u001b[31mchr\u001b[39m  (1): Class\n",
      "\u001b[32mdbl\u001b[39m (65): FMONTH, IDATE, IMONTH, IDAY, IYEAR, DISPCODE, SEQNO, SEXVAR, GENHL...\n",
      "\n",
      "\u001b[36mℹ\u001b[39m Use `spec()` to retrieve the full column specification for this data.\n",
      "\u001b[36mℹ\u001b[39m Specify the column types or set `show_col_types = FALSE` to quiet this message.\n"
     ]
    }
   ],
   "source": [
    "df <- read_csv(\"project_data(1).csv\")"
   ]
  },
  {
   "cell_type": "markdown",
   "id": "eb20ed48-ca60-436d-bdba-5f0d4eb105c8",
   "metadata": {
    "editable": true,
    "scrolled": true,
    "slideshow": {
     "slide_type": ""
    },
    "tags": []
   },
   "source": [
    "## Data Dimension Reduction 📉"
   ]
  },
  {
   "cell_type": "markdown",
   "id": "b32aabb4-3378-4f77-8c00-5f532d288514",
   "metadata": {},
   "source": [
    "#### Columns that will not be useful for analysis based on domain knowledge 🚮."
   ]
  },
  {
   "cell_type": "markdown",
   "id": "69323991-81ab-4797-9e90-feb84c95887d",
   "metadata": {},
   "source": [
    "Columns: FMONTH, IDATE, IMONTH, IDAY, IYEAR, DISPCODE, SEQNO \n",
    ">**Reason for Exclusion**: These columns are related to administration of the interview and do not cancer disease analysis."
   ]
  },
  {
   "cell_type": "markdown",
   "id": "70d84e97-9c84-4b4e-8ea8-f259113eaeb7",
   "metadata": {},
   "source": [
    "Columns: MARITAL, EDUCA, RENTHOM1, CPDEMO1B, EMPLOY1, INCOME2, QSTVER, QSTLANG\n",
    ">**Reason for Exclusion**: Not directly impact the analysis of cancer disease."
   ]
  },
  {
   "cell_type": "markdown",
   "id": "0c73fb17-b69b-4789-9e13-6dce67d586c2",
   "metadata": {},
   "source": [
    "Columns: HTIN4, WEIGHT2, HEIGHT3\n",
    "> **Reason for Exclusion**: These variables were derived from the columns HTM4 and WTKG3."
   ]
  },
  {
   "cell_type": "code",
   "execution_count": 147,
   "id": "8ba16620-c5db-4215-a45e-cdd619f4f422",
   "metadata": {},
   "outputs": [],
   "source": [
    "df <- df %>%\n",
    "  select(-FMONTH, -IDATE, -IMONTH, -IDAY, -IYEAR, -SEQNO, -CPDEMO1B, -MARITAL,\n",
    "         -DISPCODE, -EDUCA, -RENTHOM1, -EMPLOY1, -INCOME2, -QSTVER, -QSTLANG,\n",
    "         -HTIN4, -WEIGHT2, -HEIGHT3)"
   ]
  },
  {
   "cell_type": "markdown",
   "id": "eb8fe74a-34bb-4477-8edd-6b17ec78dd03",
   "metadata": {},
   "source": [
    "#### Columns with almost 0 variance 🚮."
   ]
  },
  {
   "cell_type": "markdown",
   "id": "f14c89e7-df7a-45f2-8fe2-f418f6863324",
   "metadata": {},
   "source": [
    "Columns: CHCKDNY, DIFFDRES, USENOW3, HIVRISK5"
   ]
  },
  {
   "cell_type": "code",
   "execution_count": 149,
   "id": "4ad2ac90-27fe-4e02-85aa-a492ea1e6501",
   "metadata": {},
   "outputs": [],
   "source": [
    "df <- df %>%\n",
    "  select(-all_of(nearZeroVar(df, names = TRUE)))"
   ]
  },
  {
   "cell_type": "markdown",
   "id": "501ff75e-7642-4cd0-b70f-dbdbf1a5ac8e",
   "metadata": {},
   "source": [
    "#### Columns highly correlated 🚮."
   ]
  },
  {
   "cell_type": "markdown",
   "id": "dfaf13a8-57fe-4985-b740-ec276c45dad4",
   "metadata": {},
   "source": [
    "Column: ALCDAY5"
   ]
  },
  {
   "cell_type": "code",
   "execution_count": 151,
   "id": "581faf87-4e4c-402b-9f5f-503be26578be",
   "metadata": {},
   "outputs": [],
   "source": [
    "numeric_cols <- df %>% select(where(is.numeric))\n",
    "highly.correlated.variables <- findCorrelation(cor(numeric_cols, use = \"complete.obs\"), cutoff = 0.7, names = TRUE)\n",
    "df <- df %>% select(-all_of(highly.correlated.variables))"
   ]
  },
  {
   "cell_type": "markdown",
   "id": "8dea1f97-bb5f-467d-977c-893155a758db",
   "metadata": {},
   "source": [
    "#### Multiple Correspondence Analysis (MCA) 🚮."
   ]
  },
  {
   "cell_type": "markdown",
   "id": "270f638f-25fa-4d95-9bc2-ed18b708730f",
   "metadata": {},
   "source": [
    "## Normalization of variables 📕"
   ]
  },
  {
   "cell_type": "markdown",
   "id": "224d54b6-22bf-483e-86cc-b6895770adbd",
   "metadata": {},
   "source": [
    "For normalization, recodification is needed based on domain knowledge. \"Don’t know/Not sure\",\"Refused,\" and other nonsensical values hardcoded as NA."
   ]
  },
  {
   "cell_type": "markdown",
   "id": "aa427575-0bb1-45ef-afd4-88220158ceb5",
   "metadata": {},
   "source": [
    "SEXVAR, GENHLTH, PHYSHLTH, MENTHLTH, HLTHPLN1, PERSDOC2, MEDCOST, CHECKUP1, CHOLCHK2, TOLDHI2, CVDINFR4, CVDCRHD4, ASTHMA3, CHCCOPD2, ADDEPEV3, HAVARTH4, VETERAN3, CHILDREN, DEAF, BLIND, DECIDE, DIFFWALK, DIFFALON, SMOKE100, EXERANY2, FLUSHOT7, PNEUVAC4, HIVTST7 and DRNKANY5 are handle with the same approach. "
   ]
  },
  {
   "cell_type": "markdown",
   "id": "12264e21-8863-42f6-ad77-3c0fc8b87cae",
   "metadata": {},
   "source": [
    "> ⚠️ Just showing the first 5 variable as example."
   ]
  },
  {
   "cell_type": "code",
   "execution_count": 153,
   "id": "e2f40ee7-de7a-4a04-8f54-fb9c027008a7",
   "metadata": {},
   "outputs": [],
   "source": [
    "scale <- function(x) {\n",
    "  (x - min(x, na.rm = TRUE)) / (max(x, na.rm = TRUE) - min(x, na.rm = TRUE))\n",
    "}"
   ]
  },
  {
   "cell_type": "code",
   "execution_count": 155,
   "id": "5a944915-7b38-42a1-bb7e-fd84117aee1a",
   "metadata": {},
   "outputs": [],
   "source": [
    "#SEXVAR\n",
    "df$SEXVAR <- scale(df$SEXVAR)\n",
    "\n",
    "#GENHLTH\n",
    "df$GENHLTH[!(df$GENHLTH  %in% c(1, 2, 3, 4, 5))] <- NA\n",
    "df$GENHLTH <- scale(df$GENHLTH)\n",
    "\n",
    "#PHYSHLTH\n",
    "df$PHYSHLTH[!(df$PHYSHLTH  %in% c(1:30))] <- NA\n",
    "df$PHYSHLTH <- scale(df$PHYSHLTH)\n",
    "\n",
    "#MENTHLTH\n",
    "df$MENTHLTH[!(df$MENTHLTH  %in% c(1:30))] <- NA\n",
    "df$MENTHLTH<- scale(df$MENTHLTH)\n",
    "\n",
    "#HLTHPLN1\n",
    "df$HLTHPLN1[!(df$HLTHPLN1  %in% c(1,2))] <- NA\n",
    "df$HLTHPLN1<- scale(df$HLTHPLN1)\n",
    "\n",
    "#PERSDOC2\n",
    "df$PERSDOC2[!(df$PERSDOC2 %in% c(1,2,3))] <- NA\n",
    "df$PERSDOC2<- scale(df$PERSDOC2)\n",
    "\n",
    "#MEDCOST\n",
    "df$MEDCOST[!(df$MEDCOST %in% c(1,2))] <- NA\n",
    "df$MEDCOST<- scale(df$MEDCOST)\n",
    "\n",
    "#CHECKUP1\n",
    "df$CHECKUP1[!(df$CHECKUP1 %in% c(1,2,3,4))] <- NA\n",
    "df$CHECKUP1<- scale(df$CHECKUP1)\n",
    "\n",
    "#CHOLCHK2 \n",
    "df$CHOLCHK2[!(df$CHOLCHK2 %in% c(1,2,3,4,5,6))] <- NA\n",
    "df$CHOLCHK2<- scale(df$CHOLCHK2)\n",
    "\n",
    "#TOLDHI2 \n",
    "df$TOLDHI2[!(df$TOLDHI2 %in% c(1,2))] <- NA\n",
    "df$TOLDHI2<- scale(df$TOLDHI2)\n",
    "\n",
    "#CVDINFR4 \n",
    "df$CVDINFR4[!(df$CVDINFR4 %in% c(1,2))] <- NA\n",
    "df$CVDINFR4<- scale(df$CVDINFR4)\n",
    "\n",
    "#CVDCRHD4\n",
    "df$CVDCRHD4[!(df$CVDCRHD4 %in% c(1,2))] <- NA\n",
    "df$CVDCRHD4<- scale(df$CVDCRHD4)\n",
    "\n",
    "#ASTHMA3 \n",
    "df$ASTHMA3[!(df$ASTHMA3 %in% c(1,2))] <- NA\n",
    "df$ASTHMA3 <- scale(df$ASTHMA3)\n",
    "\n",
    "#CHCCOPD2\n",
    "df$CHCCOPD2[!(df$CHCCOPD2 %in% c(1,2))] <- NA\n",
    "df$CHCCOPD2<- scale(df$CHCCOPD2)\n",
    "\n",
    "#ADDEPEV3 \n",
    "df$ADDEPEV3[!(df$ADDEPEV3 %in% c(1,2))] <- NA\n",
    "df$ADDEPEV3 <- scale(df$ADDEPEV3)\n",
    "\n",
    "#HAVARTH4 \n",
    "df$HAVARTH4[!(df$HAVARTH4 %in% c(1,2))] <- NA\n",
    "df$HAVARTH4<- scale(df$DIABETE4)\n",
    "\n",
    "#VETERAN3\n",
    "df$VETERAN3[!(df$VETERAN3 %in% c(1,2))] <- NA\n",
    "df$VETERAN3<- scale(df$VETERAN3)\n",
    "\n",
    "#CHILDREN\n",
    "df$CHILDREN[!(df$CHILDREN %in% c(1:87))] <- NA\n",
    "df$CHILDREN <- scale(df$CHILDREN)\n",
    "\n",
    "#DEAF\n",
    "df$DEAF[!(df$DEAF %in% c(1,2))] <- NA\n",
    "df$DEAF<- scale(df$DEAF)\n",
    "\n",
    "#BLIND\n",
    "df$BLIND[!(df$BLIND %in% c(1,2))] <- NA\n",
    "df$BLIND<- scale(df$BLIND)\n",
    "\n",
    "#DECIDE\n",
    "df$DECIDE[!(df$DECIDE %in% c(1,2))] <- NA\n",
    "df$DECIDE <- scale(df$DECIDE)\n",
    "\n",
    "#DIFFWALK \n",
    "df$DIFFWALK[!(df$DIFFWALK %in% c(1,2))] <- NA\n",
    "df$DIFFWALK <- scale(df$DIFFWALK)\n",
    "\n",
    "#DIFFALON\n",
    "df$DIFFALON[!(df$DIFFALON %in% c(1,2))] <- NA\n",
    "df$DIFFALON<- scale(df$DIFFALON)\n",
    "\n",
    "#SMOKE100\n",
    "df$SMOKE100[!(df$SMOKE100 %in% c(1,2))] <- NA\n",
    "df$SMOKE100<- scale(df$SMOKE100)\n",
    "\n",
    "#EXERANY2\n",
    "df$EXERANY2[!(df$EXERANY2 %in% c(1,2))] <- NA\n",
    "df$EXERANY2<- scale(df$EXERANY2)\n",
    "\n",
    "#FLUSHOT7\n",
    "df$FLUSHOT7[!(df$FLUSHOT7 %in% c(1,2))] <- NA\n",
    "df$FLUSHOT7 <- scale(df$FLUSHOT7)\n",
    "\n",
    "#PNEUVAC4\n",
    "df$PNEUVAC4[!(df$PNEUVAC4 %in% c(1,2))] <- NA\n",
    "df$PNEUVAC4 <- scale(df$PNEUVAC4)\n",
    "\n",
    "#HIVTST7\n",
    "df$HIVTST7[!(df$HIVTST7 %in% c(1,2))] <- NA\n",
    "df$HIVTST7 <- scale(df$HIVTST7)\n",
    "\n",
    "#DRNKANY5\n",
    "df$DRNKANY5[!(df$DRNKANY5 %in% c(1,2))] <- NA\n",
    "df$DRNKANY5 <- scale(df$DRNKANY5)\n",
    "\n",
    "#TETANUS1\n",
    "df$TETANUS1[(df$TETANUS1 %in% c(7,9))] <- NA\n",
    "df$TETANUS1 <- scale(df$TETANUS1)"
   ]
  },
  {
   "cell_type": "markdown",
   "id": "3674a15c-a44b-4276-93c3-5eed003f7ace",
   "metadata": {},
   "source": [
    "BPHIGH4 and BPHIGH4 are handle with the same approach. "
   ]
  },
  {
   "cell_type": "code",
   "execution_count": 157,
   "id": "ba68c9f6-d1d3-4708-a343-3a2e4af54f0e",
   "metadata": {},
   "outputs": [],
   "source": [
    "#BPHIGH4\n",
    "df$BPHIGH4 <- ifelse(!(df$BPHIGH4 %in% c(1, 2, 3, 4)), NA, df$BPHIGH4)\n",
    "df$BPHIGH4 <- recode(df$BPHIGH4, `1` = 8, `2` = 7, `3` = 5, `4` = 6)\n",
    "df$BPHIGH4 <- scale(df$BPHIGH4)\n",
    "\n",
    "#DIABETE4\n",
    "df$DIABETE4 <- ifelse(!(df$DIABETE4 %in% c(1, 2, 3, 4)), NA, df$DIABETE4)\n",
    "df$DIABETE4 <- recode(df$DIABETE4, `1` = 8, `2` = 7, `3` = 5, `4` = 6)\n",
    "df$DIABETE4 <- scale(df$DIABETE4)\n"
   ]
  },
  {
   "cell_type": "markdown",
   "id": "bb9bfd8d-1e96-4ced-9628-c9cb52826e66",
   "metadata": {},
   "source": [
    "STRENGTH, FRUIT2, FRUITJU2, FVGREEN1, FRENCHF1, POTATOE1 and VEGETAB2 are handle with the same approach. "
   ]
  },
  {
   "cell_type": "markdown",
   "id": "5ab1affe-e7a4-4a3f-ae46-945090407e2a",
   "metadata": {},
   "source": [
    "> ⚠️ Just showing the first 5 variable as example."
   ]
  },
  {
   "cell_type": "code",
   "execution_count": 159,
   "id": "24af30a2-8edc-4b74-839d-f22e9756fac9",
   "metadata": {},
   "outputs": [],
   "source": [
    "#STRENGTH\n",
    "df$STRENGTH[df$STRENGTH %in% c(200, 777, 999)] <- NA\n",
    "df$STRENGTH[df$STRENGTH == 888] <- 0\n",
    "df$STRENGTH <- ifelse(df$STRENGTH %in% 101:199, df$STRENGTH %% 100, df$STRENGTH)\n",
    "df$STRENGTH <- ifelse(df$STRENGTH %in% 201:299, df$STRENGTH %% 200, df$STRENGTH)\n",
    "df$STRENGTH <- round(scale(df$STRENGTH),1)\n",
    "\n",
    "#FRUIT2\n",
    "df$FRUIT2[df$FRUIT2 %in% c(777, 999, 555, 300)] <- NA\n",
    "df$FRUIT2[df$FRUIT2 %in% c(555, 300)] <- c(0, 0.5)[match(df$FRUIT2, c(555, 300))]\n",
    "df$FRUIT2 <- ifelse(df$FRUIT2 %in% 101:199, df$FRUIT2 %% 100, df$FRUIT2)\n",
    "df$FRUIT2 <- ifelse(df$FRUIT2 %in% 201:299, df$FRUIT2 %% 200, df$FRUIT2)\n",
    "df$FRUIT2 <- ifelse(df$FRUIT2 %in% 301:399, df$FRUIT2 %% 300, df$FRUIT2)\n",
    "df$FRUIT2 <- round(scale(df$FRUIT2),2)\n",
    "\n",
    "#FRUITJU2\n",
    "df$FRUITJU2[df$FRUITJU2 %in% c(777, 999)] <- NA\n",
    "df$FRUITJU2[df$FRUITJU2 %in% c(555, 300)] <- 0\n",
    "df$FRUITJU2 <- ifelse(df$FRUITJU2 %in% 101:199, df$FRUITJU2 %% 100, df$FRUITJU2)\n",
    "df$FRUITJU2 <- ifelse(df$FRUITJU2 %in% 201:299, df$FRUITJU2 %% 200, df$FRUITJU2)\n",
    "df$FRUITJU2 <- ifelse(df$FRUITJU2 %in% 301:399, df$FRUITJU2 %% 300, df$FRUITJU2)\n",
    "df$FRUITJU2 <- round(scale(df$FRUITJU2),1)\n",
    "\n",
    "#FVGREEN1\n",
    "df$FVGREEN1[df$FVGREEN1 %in% c(777, 999)] <- NA\n",
    "df$FVGREEN1[df$FVGREEN1 %in% c(555, 300)] <- 0\n",
    "df$FVGREEN1 <- ifelse(df$FVGREEN1 %in% 101:199, df$FVGREEN1 %% 100 , df$FVGREEN1)\n",
    "df$FVGREEN1 <- ifelse(df$FVGREEN1 %in% 201:299, df$FVGREEN1 %% 200 , df$FVGREEN1)\n",
    "df$FVGREEN1 <- ifelse(df$FVGREEN1 %in% 301:399, df$FVGREEN1 %% 300, df$FVGREEN1)\n",
    "df$FVGREEN1 <- round(scale(df$FVGREEN1),1)\n",
    "\n",
    "#FRENCHF1\n",
    "df$FRENCHF1[df$FRENCHF1 %in% c(777, 999, 200)] <- NA\n",
    "df$FRENCHF1[df$FRENCHF1 %in% c(555, 300)] <- 0\n",
    "df$FRENCHF1 <- ifelse(df$FRENCHF1 %in% 101:199, df$FRENCHF1 %% 100, df$FRENCHF1)\n",
    "df$FRENCHF1 <- ifelse(df$FRENCHF1 %in% 201:299, df$FRENCHF1 %% 200, df$FRENCHF1)\n",
    "df$FRENCHF1 <- ifelse(df$FRENCHF1 %in% 301:399, df$FRENCHF1 %% 300, df$FRENCHF1)\n",
    "df$FRENCHF1 <- round(scale(df$FRENCHF1),1)\n",
    "\n",
    "#POTATOE1\n",
    "df$POTATOE1[df$POTATOE1 %in% c(777, 999)] <- NA\n",
    "df$POTATOE1[df$POTATOE1 %in% c(555, 300)] <- 0\n",
    "df$POTATOE1 <- ifelse(df$POTATOE1 %in% 101:199, df$POTATOE1 %% 100, df$POTATOE1)\n",
    "df$POTATOE1 <- ifelse(df$POTATOE1 %in% 201:299, df$POTATOE1 %% 200, df$POTATOE1)\n",
    "df$POTATOE1 <- ifelse(df$POTATOE1 %in% 301:399, df$POTATOE1 %% 300, df$POTATOE1)\n",
    "df$POTATOE1 <- round(scale(df$POTATOE1),1)\n",
    "\n",
    "#VEGETAB2\n",
    "df$VEGETAB2[df$VEGETAB2 %in% c(777, 999)] <- NA\n",
    "df$VEGETAB2[df$VEGETAB2 %in% c(555, 300)] <- 0\n",
    "df$VEGETAB2 <- ifelse(df$VEGETAB2 %in% 101:199, df$VEGETAB2 %% 100, df$VEGETAB2)\n",
    "df$VEGETAB2 <- ifelse(df$VEGETAB2 %in% 201:299, df$VEGETAB2 %% 200, df$VEGETAB2)\n",
    "df$VEGETAB2 <- ifelse(df$VEGETAB2 %in% 301:399, df$VEGETAB2 %% 300, df$VEGETAB2)\n",
    "df$VEGETAB2 <- round(scale(df$VEGETAB2),1)"
   ]
  },
  {
   "cell_type": "markdown",
   "id": "607ae9bc-3756-4fbd-8855-f3a6db5d8c86",
   "metadata": {},
   "source": [
    "For variables HTM4 and WTKG3 the same approach is done. "
   ]
  },
  {
   "cell_type": "markdown",
   "id": "4d929f93-265d-4914-b261-eca921cd1c00",
   "metadata": {},
   "source": [
    "The code builds a **decision tree** to predict Class using HTM4, extracts split points using **entrophy**. If no splits are found, uses the 33rd and 66th percentiles of  bins HTM4 into categories based on these splits"
   ]
  },
  {
   "cell_type": "markdown",
   "id": "8add542c-9844-4756-b4ef-f2ff4d592659",
   "metadata": {},
   "source": [
    "> ⚠️ Just showing the first variable as example."
   ]
  },
  {
   "cell_type": "code",
   "execution_count": 161,
   "id": "6b6a759f-fe74-4181-a197-81384b786cd7",
   "metadata": {},
   "outputs": [
    {
     "name": "stdout",
     "output_type": "stream",
     "text": [
      "No valid splits found. Using quantile-based fallback splits.\n",
      "No valid splits found. Using quantile-based fallback splits.\n"
     ]
    }
   ],
   "source": [
    "#HTM4  \n",
    "tree_model <- rpart(Class ~ HTM4, data = df, method = \"class\", control=rpart.control(minsplit=1, cp=0.001))\n",
    "splits <- sort(unique(tree_model$frame$split[!is.na(tree_model$frame$split)]))\n",
    "if (length(splits) == 0) {\n",
    "  cat(\"No valid splits found. Using quantile-based fallback splits.\\n\")\n",
    "  splits <- quantile(df$HTM4, probs = c(0.33, 0.66), na.rm = TRUE)\n",
    "}\n",
    "labels <- as.character(1:(length(splits) + 1))\n",
    "df$HTM4 <- cut(df$HTM4, breaks = c(-Inf, splits, Inf), include.lowest = TRUE, labels = labels)\n",
    "df$HTM4 <- as.numeric(df$HTM4)\n",
    "df$HTM4 <- scale(df$HTM4) \n",
    "\n",
    "#WTKG3\n",
    "tree_model <- rpart(Class ~ WTKG3, data = df, method = \"class\", control=rpart.control(minsplit=1, cp=0.001))\n",
    "splits <- sort(unique(tree_model$frame$split[!is.na(tree_model$frame$split)]))\n",
    "if (length(splits) == 0) {\n",
    "  cat(\"No valid splits found. Using quantile-based fallback splits.\\n\")\n",
    "  splits <- quantile(df$WTKG3, probs = c(0.33, 0.66), na.rm = TRUE)\n",
    "}\n",
    "labels <- as.character(1:(length(splits) + 1))\n",
    "df$WTKG3 <- cut(df$WTKG3, breaks = c(-Inf, splits, Inf), include.lowest = TRUE, labels = labels)\n",
    "df$WTKG3 <- as.numeric(df$WTKG3)\n",
    "df$WTKG3 <- scale(df$WTKG3)"
   ]
  },
  {
   "cell_type": "markdown",
   "id": "44030625-3f8c-4101-87e4-b761af3f41d3",
   "metadata": {},
   "source": [
    "### Data Cleaning: Addressing Blanks, Duplicates, and Outliers 🧹"
   ]
  },
  {
   "cell_type": "markdown",
   "id": "c8ff77b4-02ff-47e1-b4c0-e045b429f2ca",
   "metadata": {},
   "source": [
    "#### Removing duplicates 🔁"
   ]
  },
  {
   "cell_type": "code",
   "execution_count": 163,
   "id": "58c73169-43bd-4248-9c80-2f17905a024e",
   "metadata": {},
   "outputs": [
    {
     "data": {
      "text/html": [
       "6"
      ],
      "text/latex": [
       "6"
      ],
      "text/markdown": [
       "6"
      ],
      "text/plain": [
       "[1] 6"
      ]
     },
     "metadata": {},
     "output_type": "display_data"
    }
   ],
   "source": [
    "sum(duplicated(df))\n",
    "df <- distinct(df)"
   ]
  },
  {
   "cell_type": "markdown",
   "id": "073f33a0-0a68-4eaa-8b03-dde7e072d2b5",
   "metadata": {},
   "source": [
    "#### Filling Missing Values 🤷‍♂️"
   ]
  },
  {
   "cell_type": "markdown",
   "id": "16674db2-dfc0-48be-9894-16d93e108f43",
   "metadata": {},
   "source": [
    "**22685 NA** values observed"
   ]
  },
  {
   "cell_type": "markdown",
   "id": "541d320e-58a7-4cf8-997a-717bf18741ab",
   "metadata": {},
   "source": [
    "**Function**: fill_missing_with_regression\n",
    "\n",
    "This function automates the process of imputing missing values in a dataframe using linear regression models, leveraging the strongest correlations among variables.\n",
    "\n",
    "Steps:\n",
    "| Step | Description |\r\n",
    "|------|-------------|\r\n",
    "| 1    | **Compute Correlation Matrix**: Calculate the correlation matrix only from complete observations. |\r\n",
    "| 2    | **Convert Correlation to Dataframe**: Transform the correlation matrix to a dataframe for ease of manipulation. |\r\n",
    "| 3    | **Identify Columns with NAs**: Detect all columns that contain missing values. |\r\n",
    "| 4    | **Find Highest Correlated Columns**: For each column with missing values, identify the column that has the highest correlation with it. |\r\n",
    "| 5    | **Build Regression Models**: Construct a regression model for each pair of highly correlated columns. |\r\n",
    "| 6    | **Predict Missing Values**: Use the regression models to estimate and fill in the missing valsI\n",
    "##### Implementation Details\n",
    "\n",
    "- The correlation matrix is computed using only those rows that do not contain any missing values to ensure accuracy in correlation calculation.\n",
    "- Each column's strongest correlation is determined by absolute value, meaning both strong positive and negative correlations are considered.\n",
    "- Regression models are built individually for each column with missing data based on its most correlated counterpart, providing tailored imputation.\n",
    "- Predictions from these models directly replace the missing values, thus maintaining the integrity and distribution of the original data.\n"
   ]
  },
  {
   "cell_type": "code",
   "execution_count": 165,
   "id": "aad766f9-4821-41cb-9e0e-735154a76265",
   "metadata": {},
   "outputs": [],
   "source": [
    " # 1\n",
    "fill_missing_with_regression <- function(df) { numeric_cols <- df %>% select(where(is.numeric))\n",
    "  correlation_matrix <- cor(numeric_cols, use = \"complete.obs\") # 1\n",
    "  \n",
    "  # 2\n",
    "  correlation_df <- as.data.frame(correlation_matrix) %>%\n",
    "    rownames_to_column(var = \"Row\") %>%\n",
    "    pivot_longer(cols = -Row, names_to = \"Column\", values_to = \"Correlation\") %>%\n",
    "    filter(Row != Column, !is.na(Correlation)) %>%\n",
    "    arrange(desc(abs(Correlation)))\n",
    "  \n",
    "  # 3\n",
    "  cols_with_na <- names(df)[colSums(is.na(df)) > 0]\n",
    "  print(paste(\"Columns with NA:\", toString(cols_with_na)))\n",
    "  \n",
    "  for (col in cols_with_na) {\n",
    "    top_correlation <- correlation_df %>%\n",
    "      filter(Row == col | Column == col) %>%\n",
    "      slice_max(abs(Correlation), n = 1) \n",
    "  # 4\n",
    "    if (nrow(top_correlation) > 0) {\n",
    "      predictor_col <- ifelse(top_correlation$Row[1] == col, top_correlation$Column[1], top_correlation$Row[1])\n",
    "      print(paste(\"Processing:\", col, \"using\", predictor_col))\n",
    "      missing_indices <- which(is.na(df[[col]]) & !is.na(df[[predictor_col]]))\n",
    "      if (length(missing_indices) == 0) {\n",
    "        print(paste(\"No valid data to impute for column:\", col))\n",
    "        next} \n",
    "  # 5 \n",
    "      formula <- as.formula(paste(col, \"~\", predictor_col))\n",
    "      model <- lm(formula, data = df, na.action = na.exclude) # 5\n",
    "      \n",
    "  # 6\n",
    "      predictions <- predict(model, newdata = df[missing_indices, , drop = FALSE], type = \"response\")\n",
    "      df[[col]][missing_indices] <- predictions\n",
    "    } else {\n",
    "      print(paste(\"No correlations found for column:\", col))}} \n",
    "                                            return(df)}\n",
    "   "
   ]
  },
  {
   "cell_type": "markdown",
   "id": "2d7d4bf6-fe32-4c44-bfe1-53def22b9445",
   "metadata": {},
   "source": [
    "Aplication of the formula to **fill out NA values with regression**"
   ]
  },
  {
   "cell_type": "code",
   "execution_count": 167,
   "id": "1b46d0bb-ab10-4614-9445-e2c5ce8ee4e9",
   "metadata": {},
   "outputs": [
    {
     "name": "stdout",
     "output_type": "stream",
     "text": [
      "[1] \"Columns with NA: GENHLTH, PHYSHLTH, MENTHLTH, HLTHPLN1, PERSDOC2, MEDCOST, CHECKUP1, BPHIGH4, CHOLCHK2, TOLDHI2, CVDINFR4, CVDCRHD4, ASTHMA3, CHCCOPD2, ADDEPEV3, DIABETE4, VETERAN3, CHILDREN, DEAF, BLIND, DECIDE, DIFFWALK, DIFFALON, SMOKE100, EXERANY2, STRENGTH, FRUIT2, FRUITJU2, FVGREEN1, FRENCHF1, POTATOE1, VEGETAB2, FLUSHOT7, TETANUS1, PNEUVAC4, HIVTST7, HTM4, WTKG3, DRNKANY5\"\n",
      "[1] \"Processing: GENHLTH using DIFFWALK\"\n",
      "[1] \"Processing: PHYSHLTH using GENHLTH\"\n",
      "[1] \"Processing: MENTHLTH using DIFFWALK\"\n",
      "[1] \"Processing: HLTHPLN1 using FRENCHF1\"\n",
      "[1] \"Processing: PERSDOC2 using CHECKUP1\"\n",
      "[1] \"Processing: MEDCOST using FRUIT2\"\n",
      "[1] \"Processing: CHECKUP1 using CHOLCHK2\"\n",
      "[1] \"Processing: BPHIGH4 using TOLDHI2\"\n",
      "[1] \"Processing: CHOLCHK2 using CHECKUP1\"\n",
      "[1] \"Processing: TOLDHI2 using BPHIGH4\"\n",
      "[1] \"Processing: CVDINFR4 using CVDCRHD4\"\n",
      "[1] \"Processing: CVDCRHD4 using HAVARTH4\"\n",
      "[1] \"Processing: ASTHMA3 using CVDCRHD4\"\n",
      "[1] \"Processing: CHCCOPD2 using CVDCRHD4\"\n",
      "[1] \"Processing: ADDEPEV3 using SEXVAR\"\n",
      "[1] \"Processing: DIABETE4 using HAVARTH4\"\n",
      "[1] \"Processing: VETERAN3 using SEXVAR\"\n",
      "[1] \"Processing: CHILDREN using BPHIGH4\"\n",
      "[1] \"Processing: DEAF using BLIND\"\n",
      "[1] \"Processing: BLIND using DIFFALON\"\n",
      "[1] \"Processing: DECIDE using DIFFALON\"\n",
      "[1] \"Processing: DIFFWALK using GENHLTH\"\n",
      "[1] \"Processing: DIFFALON using DECIDE\"\n",
      "[1] \"Processing: SMOKE100 using CHCCOPD2\"\n",
      "[1] \"Processing: EXERANY2 using CVDINFR4\"\n",
      "[1] \"Processing: STRENGTH using POTATOE1\"\n",
      "[1] \"Processing: FRUIT2 using FRUITJU2\"\n",
      "[1] \"Processing: FRUITJU2 using FRUIT2\"\n",
      "[1] \"Processing: FVGREEN1 using FRENCHF1\"\n",
      "[1] \"Processing: FRENCHF1 using FVGREEN1\"\n",
      "[1] \"Processing: POTATOE1 using STRENGTH\"\n",
      "[1] \"Processing: VEGETAB2 using CVDCRHD4\"\n",
      "[1] \"Processing: FLUSHOT7 using PNEUVAC4\"\n",
      "[1] \"Processing: TETANUS1 using HLTHPLN1\"\n",
      "[1] \"Processing: PNEUVAC4 using CHCCOPD2\"\n",
      "[1] \"Processing: HIVTST7 using SMOKE100\"\n",
      "[1] \"Processing: HTM4 using SEXVAR\"\n",
      "[1] \"Processing: WTKG3 using HTM4\"\n",
      "[1] \"Processing: DRNKANY5 using GENHLTH\"\n"
     ]
    }
   ],
   "source": [
    "df <- fill_missing_with_regression(df)"
   ]
  },
  {
   "cell_type": "markdown",
   "id": "a8b107be-5400-48ca-9999-dacaab323a7d",
   "metadata": {},
   "source": [
    "Exclude rows with more than **3** values of NA"
   ]
  },
  {
   "cell_type": "code",
   "execution_count": 169,
   "id": "199d597a-5f05-4182-8f49-30b05fbbb5e4",
   "metadata": {},
   "outputs": [],
   "source": [
    "df <- df[rowSums(is.na(df)) <= 3, ]"
   ]
  },
  {
   "cell_type": "markdown",
   "id": "a0dd90c5-5539-4406-96f1-fc9cd81f1488",
   "metadata": {},
   "source": [
    "Finally, **replace NAs** with **mode** in each column"
   ]
  },
  {
   "cell_type": "code",
   "execution_count": 171,
   "id": "1e2b3ec4-5728-47c2-ab81-db52bad11147",
   "metadata": {},
   "outputs": [],
   "source": [
    "get_mode <- function(x) {uniq_x <- unique(x)\n",
    "  uniq_x[which.max(tabulate(match(x, uniq_x)))]}\n",
    "for (col in names(df)) {mode_value <- get_mode(df[[col]][!is.na(df[[col]])]) \n",
    "  df[[col]][is.na(df[[col]])] <- mode_value }"
   ]
  },
  {
   "cell_type": "markdown",
   "id": "baff8228-3839-4d69-95fe-fd451883223d",
   "metadata": {},
   "source": [
    "#### Checking for outliers 🚩\n",
    "**No outliers** detected."
   ]
  },
  {
   "cell_type": "code",
   "execution_count": 173,
   "id": "80fe5c36-234f-4762-bf54-1e4946a9a768",
   "metadata": {},
   "outputs": [],
   "source": [
    "numeric_cols <- df %>% select(where(is.numeric))\n",
    "outliers <- numeric_cols > 3"
   ]
  },
  {
   "cell_type": "code",
   "execution_count": null,
   "id": "40e5ce1d-8ece-4e7b-9eb4-53ffa39f7768",
   "metadata": {},
   "outputs": [],
   "source": [
    "numeric_cols <- df %>% \n",
    "  select(where(is.numeric)) %>% \n",
    "  mutate(across(everything(), adjust_values))\n",
    "df <- df %>% \n",
    "  select(Class) %>%\n",
    "  bind_cols(numeric_cols)\n",
    "print(head(df))"
   ]
  },
  {
   "cell_type": "markdown",
   "id": "3975ce1b-ef8b-4fc4-9955-0d2e586c568a",
   "metadata": {},
   "source": [
    "### Data visualization 💹"
   ]
  },
  {
   "cell_type": "markdown",
   "id": "b7fc9007-aed2-450f-a698-9e8a961a7d52",
   "metadata": {},
   "source": [
    "**Distribution of Sex by Cancer Status**"
   ]
  },
  {
   "cell_type": "code",
   "execution_count": 267,
   "id": "6bd33e68-676e-4202-9b7c-279b84959eae",
   "metadata": {},
   "outputs": [
    {
     "data": {
      "image/png": "[encoded data removed]",
      "text/plain": [
       "plot without title"
      ]
     },
     "metadata": {
      "image/png": {
       "height": 420,
       "width": 420
      }
     },
     "output_type": "display_data"
    }
   ],
   "source": [
    "plot <- ggplot(df, aes(x = SEXVAR, fill = Class)) +\n",
    "  geom_bar(position = \"dodge\") +\n",
    "  labs(title = \"Distribution of Sex by Cancer Status\",\n",
    "       x = \"Sex\",\n",
    "       y = \"Count\",\n",
    "       fill = \"Cancer Status\") +\n",
    "  theme_minimal()\n",
    "\n",
    "print(plot)\n"
   ]
  },
  {
   "cell_type": "markdown",
   "id": "7869f758-9d1b-404b-a033-d82791e2b190",
   "metadata": {},
   "source": [
    "**Distribution of Conditions by Cancer Status**"
   ]
  },
  {
   "cell_type": "code",
   "execution_count": 272,
   "id": "6a154291-a4b6-4ab0-9b30-8d480610b2cb",
   "metadata": {
    "scrolled": true
   },
   "outputs": [
    {
     "data": {
      "image/png": "[encoded data removed]",
      "text/plain": [
       "plot without title"
      ]
     },
     "metadata": {
      "image/png": {
       "height": 420,
       "width": 420
      }
     },
     "output_type": "display_data"
    }
   ],
   "source": [
    "df <- df %>%\n",
    "  mutate(across(c(BLIND, DECIDE, DIFFWALK, DIFFALON, SMOKE100, EXERANY2, SEXVAR, Class), as.factor))\n",
    "df_long <- df %>%\n",
    "  pivot_longer(cols = c(BLIND, DECIDE, DIFFWALK, DIFFALON, SMOKE100, EXERANY2), \n",
    "               names_to = \"Condition\", values_to = \"Value\")\n",
    "plot <- ggplot(df_long, aes(x = Condition, fill = Value)) +\n",
    "  geom_bar(position = \"dodge\") +\n",
    "  facet_wrap(~ Class) +\n",
    "  labs(title = \"Distribution of Conditions by Cancer Status\",\n",
    "       x = \"Condition\",\n",
    "       y = \"Count\",\n",
    "       fill = \"Condition Status\") +\n",
    "  scale_fill_manual(values = c(\"0\" = \"red\", \"1\" = \"blue\")) +\n",
    "  theme_minimal() +\n",
    "  theme(axis.text.x = element_text(angle = 45, hjust = 1))\n",
    "print(plot)"
   ]
  },
  {
   "cell_type": "markdown",
   "id": "565ade06-b348-4995-82ba-c8722af9af35",
   "metadata": {},
   "source": [
    "**Distribution of health eating habits**"
   ]
  },
  {
   "cell_type": "code",
   "execution_count": 274,
   "id": "af821ab5-7e9a-451b-904a-8ad265eb9002",
   "metadata": {},
   "outputs": [
    {
     "data": {
      "image/png": "[encoded data removed]",
      "text/plain": [
       "plot without title"
      ]
     },
     "metadata": {
      "image/png": {
       "height": 420,
       "width": 420
      }
     },
     "output_type": "display_data"
    }
   ],
   "source": [
    "long_df <- df %>%\n",
    "  select(STRENGTH, FRUIT2, FRUITJU2, FVGREEN1, FRENCHF1, POTATOE1, VEGETAB2) %>%\n",
    "  pivot_longer(cols = everything(), names_to = \"Variable\", values_to = \"Value\")\n",
    "ggplot(long_df, aes(x = Value)) +\n",
    "  geom_histogram(binwidth = 0.1, fill = \"blue\", color = \"black\") +\n",
    "  facet_wrap(~ Variable, scales = \"free_y\") +\n",
    "  labs(title = \"Histograms of Variables\", x = \"Scaled Values\", y = \"Frequency\") +\n",
    "  theme_minimal()"
   ]
  },
  {
   "cell_type": "markdown",
   "id": "2bb6a494-8d9e-4806-844c-bad98b18a802",
   "metadata": {},
   "source": [
    "### Spliting the data 📁"
   ]
  },
  {
   "cell_type": "markdown",
   "id": "e505fb6e-d3a6-4a9f-9bc1-3bb8456d173b",
   "metadata": {},
   "source": [
    "**Sampling with Base R**"
   ]
  },
  {
   "cell_type": "code",
   "execution_count": 278,
   "id": "64688305-b83f-44b7-a52f-faa01ba0ceba",
   "metadata": {},
   "outputs": [],
   "source": [
    "set.seed(123)\n",
    "strata <- split(df, df$Class)\n",
    "\n",
    "sample_indices <- function(df) {\n",
    "    sample(1:nrow(df), size = 0.70 * nrow(df))}\n",
    "train_indices <- unlist(lapply(strata, sample_indices))\n",
    "\n",
    "train <- df[train_indices, ]\n",
    "test <- df[-train_indices, ]"
   ]
  },
  {
   "cell_type": "markdown",
   "id": "ee7afbe4-6895-4cce-a072-7f7a73b83c47",
   "metadata": {},
   "source": [
    "**Feature Selection**\n",
    "Method 1: Information Gain"
   ]
  },
  {
   "cell_type": "code",
   "execution_count": 280,
   "id": "9a1fe70d-4fbe-4a8b-92d5-1334af033a92",
   "metadata": {},
   "outputs": [],
   "source": [
    "weights <- information.gain(Class~., train)\n",
    "new_weights <- subset(weights, attr_importance > 0)"
   ]
  },
  {
   "cell_type": "code",
   "execution_count": 282,
   "id": "8f269894-e679-49bb-9717-8cd98ddfe357",
   "metadata": {},
   "outputs": [],
   "source": [
    "ig_train <- train[, c(\"GENHLTH\", \"PHYSHLTH\", \"MENTHLTH\", \"HLTHPLN1\", \"PERSDOC2\", \n",
    "                      \"CHECKUP1\", \"BPHIGH4\", \"CHOLCHK2\", \"TOLDHI2\", \"CVDINFR4\", \"CVDCRHD4\", \n",
    "                      \"CHCCOPD2\", \"VETERAN3\", \"CHILDREN\", \"DEAF\", \"DIFFWALK\", \"FLUSHOT7\", \"PNEUVAC4\",\"Class\")]\n",
    "\n",
    "ig_test <- test[, c(\"GENHLTH\", \"PHYSHLTH\", \"MENTHLTH\", \"HLTHPLN1\", \"PERSDOC2\", \n",
    "                    \"CHECKUP1\", \"BPHIGH4\", \"CHOLCHK2\", \"TOLDHI2\", \"CVDINFR4\", \"CVDCRHD4\", \n",
    "                    \"CHCCOPD2\", \"VETERAN3\", \"CHILDREN\", \"DEAF\", \"DIFFWALK\", \"FLUSHOT7\", \"PNEUVAC4\",\"Class\")]\n"
   ]
  },
  {
   "cell_type": "code",
   "execution_count": 300,
   "id": "42a27e01-ea18-4d37-bdfa-478647728651",
   "metadata": {},
   "outputs": [
    {
     "name": "stderr",
     "output_type": "stream",
     "text": [
      "Warning message in train.default(x, y, weights = w, ...):\n",
      "\"The metric \"Accuracy\" was not in the result set. ROC will be used instead.\"\n"
     ]
    }
   ],
   "source": [
    "tuneGrid <- expand.grid(\n",
    "    laplace = c(0.5, 1, 1.5, 2),  \n",
    "    usekernel = c(TRUE, FALSE),  \n",
    "    adjust = c(1, 2))   \n",
    "    \n",
    "ig_nb_model <- train(Class ~ .,\n",
    "                     data = ig_train,\n",
    "                     method = \"naive_bayes\",\n",
    "                     trControl = ctrl,\n",
    "                     tuneGrid = tuneGrid,\n",
    "                     metric = \"Accuracy\",\n",
    "                     maximize = TRUE)\n"
   ]
  },
  {
   "cell_type": "code",
   "execution_count": 298,
   "id": "41dd427a-69db-419e-b6f9-ee10b5408e69",
   "metadata": {},
   "outputs": [
    {
     "name": "stdout",
     "output_type": "stream",
     "text": [
      "Confusion Matrix and Statistics\n",
      "\n",
      "          Reference\n",
      "Prediction    N    Y\n",
      "         N 1480  289\n",
      "         Y    1    0\n",
      "                                          \n",
      "               Accuracy : 0.8362          \n",
      "                 95% CI : (0.8181, 0.8531)\n",
      "    No Information Rate : 0.8367          \n",
      "    P-Value [Acc > NIR] : 0.5413          \n",
      "                                          \n",
      "                  Kappa : -0.0011         \n",
      "                                          \n",
      " Mcnemar's Test P-Value : <2e-16          \n",
      "                                          \n",
      "            Sensitivity : 0.9993          \n",
      "            Specificity : 0.0000          \n",
      "         Pos Pred Value : 0.8366          \n",
      "         Neg Pred Value : 0.0000          \n",
      "              Precision : 0.8366          \n",
      "                 Recall : 0.9993          \n",
      "                     F1 : 0.9108          \n",
      "             Prevalence : 0.8367          \n",
      "         Detection Rate : 0.8362          \n",
      "   Detection Prevalence : 0.9994          \n",
      "      Balanced Accuracy : 0.4997          \n",
      "                                          \n",
      "       'Positive' Class : N               \n",
      "                                          \n"
     ]
    }
   ],
   "source": [
    "test_pred_ig_nb <- predict(ig_nb_model, newdata = ig_test)\n",
    "test_pred_ig_nb <- as.factor(test_pred_ig_nb)\n",
    "ig_test$Class <- as.factor(ig_test$Class)\n",
    "levels(test_pred_ig_nb) <- levels(ig_test$Class)\n",
    "conf_matrix <- confusionMatrix(test_pred_ig_nb, ig_test$Class, mode = \"everything\")\n",
    "print(conf_matrix)"
   ]
  },
  {
   "cell_type": "markdown",
   "id": "daa98a10-86d1-410c-9640-0abccb5095cd",
   "metadata": {},
   "source": [
    "**With caret Package**"
   ]
  },
  {
   "cell_type": "code",
   "execution_count": 76,
   "id": "86b1602a-bc46-4225-9f90-db9822e5f053",
   "metadata": {},
   "outputs": [],
   "source": [
    "train_indices <- createDataPartition(y = df$Class, p = 0.70, list = FALSE, times = 1)\n",
    "\n",
    "train <- df[train_indices, ]\n",
    "test <- df[-train_indices, ]"
   ]
  }
 ],
 "metadata": {
  "kernelspec": {
   "display_name": "R",
   "language": "R",
   "name": "ir"
  },
  "language_info": {
   "codemirror_mode": "r",
   "file_extension": ".r",
   "mimetype": "text/x-r-source",
   "name": "R",
   "pygments_lexer": "r",
   "version": "4.3.3"
  }
 },
 "nbformat": 4,
 "nbformat_minor": 5
}
